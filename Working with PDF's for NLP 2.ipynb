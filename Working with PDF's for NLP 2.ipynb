{
 "cells": [
  {
   "cell_type": "markdown",
   "id": "cf000d9b",
   "metadata": {},
   "source": [
    "### Importing Library PyPDF2 (Basic Library)\n",
    "###  Used for extracting text from pdf's \n",
    "#### Note: Cannot Extract Images"
   ]
  },
  {
   "cell_type": "code",
   "execution_count": 42,
   "id": "14c11ed6",
   "metadata": {},
   "outputs": [],
   "source": [
    "import PyPDF2 "
   ]
  },
  {
   "cell_type": "code",
   "execution_count": 81,
   "id": "2a8cb088",
   "metadata": {},
   "outputs": [],
   "source": [
    "a = PyPDF2.PdfFileReader(\"progit.pdf\",\"rb\")"
   ]
  },
  {
   "cell_type": "markdown",
   "id": "b31cf39d",
   "metadata": {},
   "source": [
    "### Brief Info of PDF"
   ]
  },
  {
   "cell_type": "code",
   "execution_count": 21,
   "id": "33d785f7",
   "metadata": {},
   "outputs": [
    {
     "data": {
      "text/plain": [
       "{'/Title': 'Pro Git',\n",
       " '/Author': 'Scott Chacon, Ben Straub',\n",
       " '/Creator': 'Asciidoctor PDF 2.3.0, based on Prawn 2.4.0',\n",
       " '/Producer': 'Scott Chacon, Ben Straub',\n",
       " '/ModDate': \"D:20220915213417+00'00'\",\n",
       " '/CreationDate': \"D:20220915213521+00'00'\"}"
      ]
     },
     "execution_count": 21,
     "metadata": {},
     "output_type": "execute_result"
    }
   ],
   "source": [
    "# information of author,title,etc\n",
    "a.getDocumentInfo()"
   ]
  },
  {
   "cell_type": "code",
   "execution_count": 5,
   "id": "d19397a7",
   "metadata": {
    "scrolled": true
   },
   "outputs": [
    {
     "name": "stdout",
     "output_type": "stream",
     "text": [
      "{'/Title': 'Pro Git', '/Author': 'Scott Chacon, Ben Straub', '/Creator': 'Asciidoctor PDF 2.3.0, based on Prawn 2.4.0', '/Producer': 'Scott Chacon, Ben Straub', '/ModDate': \"D:20220915213417+00'00'\", '/CreationDate': \"D:20220915213521+00'00'\"}\n"
     ]
    }
   ],
   "source": [
    "# same thing but without new line\n",
    "print(a.documentInfo)"
   ]
  },
  {
   "cell_type": "markdown",
   "id": "a38f8207",
   "metadata": {},
   "source": [
    "### Total Number of Pages"
   ]
  },
  {
   "cell_type": "code",
   "execution_count": 6,
   "id": "04387f09",
   "metadata": {},
   "outputs": [
    {
     "name": "stdout",
     "output_type": "stream",
     "text": [
      "505\n"
     ]
    }
   ],
   "source": [
    "# total pages in pdf\n",
    "print(a.getNumPages())"
   ]
  },
  {
   "cell_type": "markdown",
   "id": "16c8a640",
   "metadata": {},
   "source": [
    "### Whether the file is Encrypted or Not (Returns Bool)"
   ]
  },
  {
   "cell_type": "code",
   "execution_count": 33,
   "id": "b08b1956",
   "metadata": {
    "scrolled": true
   },
   "outputs": [
    {
     "data": {
      "text/plain": [
       "False"
      ]
     },
     "execution_count": 33,
     "metadata": {},
     "output_type": "execute_result"
    }
   ],
   "source": [
    "# whether the file is encrypted or not\n",
    "a.getIsEncrypted()"
   ]
  },
  {
   "cell_type": "markdown",
   "id": "9e88e2f7",
   "metadata": {},
   "source": [
    "### Extracting Text From Any Page According To Page Number"
   ]
  },
  {
   "cell_type": "code",
   "execution_count": 8,
   "id": "1a7292fd",
   "metadata": {
    "scrolled": true
   },
   "outputs": [
    {
     "name": "stdout",
     "output_type": "stream",
     "text": [
      "Table of Contents\n",
      "Licence . . . . . . . . . . . . . . . . . . . . . . . . . . . . . . . . . . . . . . . . . . . . . . . . . . . . . . . . . . . . . . . . . . . . . . . . . . . . . . . . . . . .  1\n",
      "Preface by Scott Chacon . . . . . . . . . . . . . . . . . . . . . . . . . . . . . . . . . . . . . . . . . . . . . . . . . . . . . . . . . . . . . . . . . . . . .  2\n",
      "Preface by Ben Straub . . . . . . . . . . . . . . . . . . . . . . . . . . . . . . . . . . . . . . . . . . . . . . . . . . . . . . . . . . . . . . . . . . . . . . .  3\n",
      "Dedications . . . . . . . . . . . . . . . . . . . . . . . . . . . . . . . . . . . . . . . . . . . . . . . . . . . . . . . . . . . . . . . . . . . . . . . . . . . . . . . . .  4\n",
      "Contributors . . . . . . . . . . . . . . . . . . . . . . . . . . . . . . . . . . . . . . . . . . . . . . . . . . . . . . . . . . . . . . . . . . . . . . . . . . . . . . . .  5\n",
      "Introduction . . . . . . . . . . . . . . . . . . . . . . . . . . . . . . . . . . . . . . . . . . . . . . . . . . . . . . . . . . . . . . . . . . . . . . . . . . . . . . . .  8\n",
      "Getting Started . . . . . . . . . . . . . . . . . . . . . . . . . . . . . . . . . . . . . . . . . . . . . . . . . . . . . . . . . . . . . . . . . . . . . . . . . . . .  10\n",
      "About Version Control . . . . . . . . . . . . . . . . . . . . . . . . . . . . . . . . . . . . . . . . . . . . . . . . . . . . . . . . . . . . . . . . . . . .  10\n",
      "A Short History of Git . . . . . . . . . . . . . . . . . . . . . . . . . . . . . . . . . . . . . . . . . . . . . . . . . . . . . . . . . . . . . . . . . . . .  14\n",
      "What is Git? . . . . . . . . . . . . . . . . . . . . . . . . . . . . . . . . . . . . . . . . . . . . . . . . . . . . . . . . . . . . . . . . . . . . . . . . . . . . .  14\n",
      "The Command Line . . . . . . . . . . . . . . . . . . . . . . . . . . . . . . . . . . . . . . . . . . . . . . . . . . . . . . . . . . . . . . . . . . . . . .  18\n",
      "Installing Git . . . . . . . . . . . . . . . . . . . . . . . . . . . . . . . . . . . . . . . . . . . . . . . . . . . . . . . . . . . . . . . . . . . . . . . . . . . .  18\n",
      "First-Time Git Setup . . . . . . . . . . . . . . . . . . . . . . . . . . . . . . . . . . . . . . . . . . . . . . . . . . . . . . . . . . . . . . . . . . . . . .  21\n",
      "Getting Help . . . . . . . . . . . . . . . . . . . . . . . . . . . . . . . . . . . . . . . . . . . . . . . . . . . . . . . . . . . . . . . . . . . . . . . . . . . . .  24\n",
      "Summary . . . . . . . . . . . . . . . . . . . . . . . . . . . . . . . . . . . . . . . . . . . . . . . . . . . . . . . . . . . . . . . . . . . . . . . . . . . . . . .  25\n",
      "Git Basics . . . . . . . . . . . . . . . . . . . . . . . . . . . . . . . . . . . . . . . . . . . . . . . . . . . . . . . . . . . . . . . . . . . . . . . . . . . . . . . . . .  26\n",
      "Getting a Git Repository . . . . . . . . . . . . . . . . . . . . . . . . . . . . . . . . . . . . . . . . . . . . . . . . . . . . . . . . . . . . . . . . . .  26\n",
      "Recording Changes to the Repository . . . . . . . . . . . . . . . . . . . . . . . . . . . . . . . . . . . . . . . . . . . . . . . . . . . . . .  28\n",
      "Viewing the Commit History . . . . . . . . . . . . . . . . . . . . . . . . . . . . . . . . . . . . . . . . . . . . . . . . . . . . . . . . . . . . . .  40\n",
      "Undoing Things . . . . . . . . . . . . . . . . . . . . . . . . . . . . . . . . . . . . . . . . . . . . . . . . . . . . . . . . . . . . . . . . . . . . . . . . . .  46\n",
      "Working with Remotes . . . . . . . . . . . . . . . . . . . . . . . . . . . . . . . . . . . . . . . . . . . . . . . . . . . . . . . . . . . . . . . . . . .  50\n",
      "Tagging . . . . . . . . . . . . . . . . . . . . . . . . . . . . . . . . . . . . . . . . . . . . . . . . . . . . . . . . . . . . . . . . . . . . . . . . . . . . . . . . .  55\n",
      "Git Aliases . . . . . . . . . . . . . . . . . . . . . . . . . . . . . . . . . . . . . . . . . . . . . . . . . . . . . . . . . . . . . . . . . . . . . . . . . . . . . .  60\n",
      "Summary . . . . . . . . . . . . . . . . . . . . . . . . . . . . . . . . . . . . . . . . . . . . . . . . . . . . . . . . . . . . . . . . . . . . . . . . . . . . . . .  62\n",
      "Git Branching . . . . . . . . . . . . . . . . . . . . . . . . . . . . . . . . . . . . . . . . . . . . . . . . . . . . . . . . . . . . . . . . . . . . . . . . . . . . . .  63\n",
      "Branches in a Nutshell . . . . . . . . . . . . . . . . . . . . . . . . . . . . . . . . . . . . . . . . . . . . . . . . . . . . . . . . . . . . . . . . . . .  63\n",
      "Basic Branching and Merging . . . . . . . . . . . . . . . . . . . . . . . . . . . . . . . . . . . . . . . . . . . . . . . . . . . . . . . . . . . . .  70\n",
      "Branch Management . . . . . . . . . . . . . . . . . . . . . . . . . . . . . . . . . . . . . . . . . . . . . . . . . . . . . . . . . . . . . . . . . . . . .  79\n",
      "Branching Workflows . . . . . . . . . . . . . . . . . . . . . . . . . . . . . . . . . . . . . . . . . . . . . . . . . . . . . . . . . . . . . . . . . . . .  82\n",
      "Remote Branches . . . . . . . . . . . . . . . . . . . . . . . . . . . . . . . . . . . . . . . . . . . . . . . . . . . . . . . . . . . . . . . . . . . . . . . .  85\n",
      "Rebasing . . . . . . . . . . . . . . . . . . . . . . . . . . . . . . . . . . . . . . . . . . . . . . . . . . . . . . . . . . . . . . . . . . . . . . . . . . . . . . . .  95\n",
      "Summary . . . . . . . . . . . . . . . . . . . . . . . . . . . . . . . . . . . . . . . . . . . . . . . . . . . . . . . . . . . . . . . . . . . . . . . . . . . . . .  104\n",
      "Git on the Server . . . . . . . . . . . . . . . . . . . . . . . . . . . . . . . . . . . . . . . . . . . . . . . . . . . . . . . . . . . . . . . . . . . . . . . . . .  105\n",
      "The Protocols . . . . . . . . . . . . . . . . . . . . . . . . . . . . . . . . . . . . . . . . . . . . . . . . . . . . . . . . . . . . . . . . . . . . . . . . . .  105\n",
      "Getting Git on a Server . . . . . . . . . . . . . . . . . . . . . . . . . . . . . . . . . . . . . . . . . . . . . . . . . . . . . . . . . . . . . . . . . .  110\n",
      "Generating Your SSH Public Key . . . . . . . . . . . . . . . . . . . . . . . . . . . . . . . . . . . . . . . . . . . . . . . . . . . . . . . . .  112\n",
      "Setting Up the Server . . . . . . . . . . . . . . . . . . . . . . . . . . . . . . . . . . . . . . . . . . . . . . . . . . . . . . . . . . . . . . . . . . .  113\n",
      "Git Daemon . . . . . . . . . . . . . . . . . . . . . . . . . . . . . . . . . . . . . . . . . . . . . . . . . . . . . . . . . . . . . . . . . . . . . . . . . . . .  116\n"
     ]
    }
   ],
   "source": [
    "# extracting text from any page according to page number\n",
    "print(a.getPage(2).extractText())"
   ]
  },
  {
   "cell_type": "markdown",
   "id": "2818f1c2",
   "metadata": {},
   "source": [
    "### Converting PDF to Text file"
   ]
  },
  {
   "cell_type": "code",
   "execution_count": 11,
   "id": "894f8ec3",
   "metadata": {},
   "outputs": [],
   "source": [
    "# converting pdf to text file\n",
    "str = \"\"\n",
    "for i in range(1,11):\n",
    "    str += a.getPage(i).extractText()\n",
    "with open(\"textPDf.txt\",\"w\",encoding ='utf-8') as f:\n",
    "    f.write(str)"
   ]
  },
  {
   "cell_type": "markdown",
   "id": "0b20ceac",
   "metadata": {},
   "source": [
    "### Storing First and Last Page in New PDF"
   ]
  },
  {
   "cell_type": "code",
   "execution_count": 84,
   "id": "66b8af70",
   "metadata": {},
   "outputs": [],
   "source": [
    "# storing first page in page1 and last page in page_l\n",
    "page1 = a.getPage(0)\n",
    "page_l = a.getPage(504)"
   ]
  },
  {
   "cell_type": "code",
   "execution_count": 85,
   "id": "87be47a1",
   "metadata": {},
   "outputs": [],
   "source": [
    "# opening same pdf in writing format\n",
    "a = PyPDF2.PdfFileWriter()"
   ]
  },
  {
   "cell_type": "code",
   "execution_count": 86,
   "id": "b9f12d0e",
   "metadata": {},
   "outputs": [],
   "source": [
    "a.addPage(page1)\n",
    "a.addPage(page_l)"
   ]
  },
  {
   "cell_type": "code",
   "execution_count": 87,
   "id": "4bb8d350",
   "metadata": {},
   "outputs": [],
   "source": [
    "# storing the first page and last page of pdf in new pdf\n",
    "with open(\"New1.pdf\",\"wb\") as output:\n",
    "    a.write(output)\n",
    "    output.close()"
   ]
  },
  {
   "cell_type": "markdown",
   "id": "4a0d822e",
   "metadata": {},
   "source": [
    "### Try To Run It By Yourself ☺️"
   ]
  },
  {
   "cell_type": "markdown",
   "id": "a4cb5ccd",
   "metadata": {},
   "source": [
    "### Refer to GitHub For Code "
   ]
  }
 ],
 "metadata": {
  "kernelspec": {
   "display_name": "Python 3",
   "language": "python",
   "name": "python3"
  },
  "language_info": {
   "codemirror_mode": {
    "name": "ipython",
    "version": 3
   },
   "file_extension": ".py",
   "mimetype": "text/x-python",
   "name": "python",
   "nbconvert_exporter": "python",
   "pygments_lexer": "ipython3",
   "version": "3.8.8"
  }
 },
 "nbformat": 4,
 "nbformat_minor": 5
}
